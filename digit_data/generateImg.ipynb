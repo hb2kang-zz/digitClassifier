{
 "cells": [
  {
   "cell_type": "code",
   "execution_count": 21,
   "metadata": {},
   "outputs": [],
   "source": [
    "import numpy as np\n",
    "import matplotlib.pyplot as plt\n",
    "import scipy.misc\n",
    "import scipy.ndimage\n"
   ]
  },
  {
   "cell_type": "code",
   "execution_count": 127,
   "metadata": {
    "collapsed": true
   },
   "outputs": [],
   "source": [
    "def f(folder, showImg = False):\n",
    "    img = plt.imread(folder+'/index.jpg')\n",
    "    \n",
    "    if showImg:\n",
    "        plt.figure(figsize=(12, 80))\n",
    "    \n",
    "    x = range(-2, 3)\n",
    "    y = range(-2, 3)\n",
    "    d = range(-3, 4)\n",
    "    x,y,d = np.meshgrid(x, y,d)\n",
    "    counter = 0\n",
    "    for (x1, y1, d1) in zip(x, y, d):\n",
    "        for (x2, y2, d2) in zip(x1, y1, d1):\n",
    "            for (i, j, k) in zip(x2, y2, d2):\n",
    "                rotated_img = scipy.ndimage.rotate(img, k*5)\n",
    "                rotated_img=np.roll(rotated_img, j*2, axis=0)\n",
    "                rotated_img=np.roll(rotated_img, j*2, axis=1)\n",
    "                plt.imsave(arr=rotated_img, \n",
    "                           fname='{}/{}.jpg'.format(folder, counter))\n",
    "                counter+=1\n",
    "                if showImg:\n",
    "                    plt.subplot(25, 7, counter)\n",
    "                    plt.imshow(rotated_img)\n",
    "                    plt.axis('off')\n",
    "    if showImg:\n",
    "        plt.show()"
   ]
  },
  {
   "cell_type": "code",
   "execution_count": 128,
   "metadata": {},
   "outputs": [
    {
     "data": {
      "image/png": "[encoded data removed]",
      "text/plain": [
       "<matplotlib.figure.Figure at 0x1830afc198>"
      ]
     },
     "metadata": {},
     "output_type": "display_data"
    }
   ],
   "source": [
    "for i in range(10):\n",
    "    folder = str(i)\n",
    "    f(folder)"
   ]
  },
  {
   "cell_type": "code",
   "execution_count": 120,
   "metadata": {},
   "outputs": [],
   "source": [
    "\n"
   ]
  },
  {
   "cell_type": "code",
   "execution_count": null,
   "metadata": {},
   "outputs": [],
   "source": []
  }
 ],
 "metadata": {
  "kernelspec": {
   "display_name": "Python 3",
   "language": "python",
   "name": "python3"
  },
  "language_info": {
   "codemirror_mode": {
    "name": "ipython",
    "version": 3
   },
   "file_extension": ".py",
   "mimetype": "text/x-python",
   "name": "python",
   "nbconvert_exporter": "python",
   "pygments_lexer": "ipython3",
   "version": "3.6.4"
  }
 },
 "nbformat": 4,
 "nbformat_minor": 2
}
