{
 "cells": [
  {
   "cell_type": "code",
   "execution_count": 2,
   "metadata": {},
   "outputs": [],
   "source": [
    "import matplotlib.pyplot as plt\n"
   ]
  },
  {
   "cell_type": "code",
   "execution_count": 17,
   "metadata": {},
   "outputs": [
    {
     "data": {
      "text/plain": [
       "array([[327, 333, 331],\n",
       "       [323, 329, 327],\n",
       "       [321, 327, 325],\n",
       "       [325, 331, 329],\n",
       "       [322, 326, 327],\n",
       "       [323, 327, 328],\n",
       "       [324, 328, 329],\n",
       "       [329, 330, 332],\n",
       "       [333, 332, 337],\n",
       "       [336, 335, 340],\n",
       "       [332, 330, 335],\n",
       "       [335, 330, 336],\n",
       "       [338, 333, 340],\n",
       "       [336, 331, 338],\n",
       "       [337, 330, 338],\n",
       "       [334, 327, 335],\n",
       "       [331, 326, 330],\n",
       "       [327, 322, 326],\n",
       "       [328, 323, 327],\n",
       "       [333, 328, 332],\n",
       "       [332, 330, 333],\n",
       "       [331, 329, 330],\n",
       "       [330, 328, 329],\n",
       "       [329, 327, 328],\n",
       "       [325, 325, 325],\n",
       "       [321, 321, 319],\n",
       "       [331, 331, 329],\n",
       "       [329, 329, 327],\n",
       "       [338, 340, 337],\n",
       "       [322, 324, 319],\n",
       "       [327, 329, 324],\n",
       "       [325, 327, 322],\n",
       "       [326, 327, 329],\n",
       "       [331, 332, 334],\n",
       "       [327, 328, 330],\n",
       "       [322, 323, 325],\n",
       "       [323, 324, 326]], dtype=uint16)"
      ]
     },
     "execution_count": 17,
     "metadata": {},
     "output_type": "execute_result"
    },
    {
     "data": {
      "image/png": "[encoded data removed]",
      "text/plain": [
       "<matplotlib.figure.Figure at 0x11a6c39e8>"
      ]
     },
     "metadata": {},
     "output_type": "display_data"
    }
   ],
   "source": [
    "im = plt.imread('0/01.jpg')\n",
    "plt.imshow(im[0]+300)\n",
    "im[0]+300"
   ]
  },
  {
   "cell_type": "code",
   "execution_count": null,
   "metadata": {},
   "outputs": [],
   "source": []
  }
 ],
 "metadata": {
  "kernelspec": {
   "display_name": "Python 3",
   "language": "python",
   "name": "python3"
  },
  "language_info": {
   "codemirror_mode": {
    "name": "ipython",
    "version": 3
   },
   "file_extension": ".py",
   "mimetype": "text/x-python",
   "name": "python",
   "nbconvert_exporter": "python",
   "pygments_lexer": "ipython3",
   "version": "3.6.4"
  }
 },
 "nbformat": 4,
 "nbformat_minor": 2
}
