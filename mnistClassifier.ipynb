{
 "cells": [
  {
   "cell_type": "code",
   "execution_count": 1,
   "metadata": {
    "collapsed": false
   },
   "outputs": [
    {
     "name": "stderr",
     "output_type": "stream",
     "text": [
      "Using TensorFlow backend.\n"
     ]
    }
   ],
   "source": [
    "# libraries and modules\n",
    "from keras.models import Sequential, load_model\n",
    "from keras.layers import Dense, Activation, Dropout, Flatten\n",
    "from keras.layers import Conv2D, MaxPooling2D\n",
    "from keras.layers import Embedding\n",
    "from keras.layers import LSTM\n",
    "\n",
    "from keras.optimizers import RMSprop\n",
    "from keras.optimizers import SGD\n",
    "\n",
    "from keras import utils as np_utils\n",
    "\n",
    "import numpy as np\n",
    "from PIL import Image\n",
    "import glob\n",
    "import os\n",
    "import h5py\n",
    "\n",
    "IMAGE_HEIGHT = 28\n",
    "IMAGE_WIDTH = 28"
   ]
  },
  {
   "cell_type": "code",
   "execution_count": 2,
   "metadata": {
    "collapsed": true
   },
   "outputs": [],
   "source": [
    "# Accuracy Function\n",
    "\n",
    "def accuracy(test_x, test_y, model):\n",
    "    result = model.predict(test_x)\n",
    "    predicted_class = np.argmax(result, axis=1)\n",
    "    true_class = np.argmax(test_y, axis=1)\n",
    "    num_correct = np.sum(predicted_class == true_class) \n",
    "    accuracy = float(num_correct)/result.shape[0]\n",
    "    return (accuracy * 100)"
   ]
  },
  {
   "cell_type": "code",
   "execution_count": 3,
   "metadata": {
    "collapsed": false
   },
   "outputs": [],
   "source": [
    "from keras.datasets import mnist\n",
    "import matplotlib.pyplot as plt\n",
    "# load (downloaded if needed) the MNIST dataset\n",
    "(X_train, y_train), (X_test, y_test) = mnist.load_data()"
   ]
  },
  {
   "cell_type": "code",
   "execution_count": 4,
   "metadata": {
    "collapsed": false
   },
   "outputs": [],
   "source": [
    "X_train = X_train.reshape(X_train.shape[0], 28, 28, 1).astype('float32')\n",
    "X_test = X_test.reshape(X_test.shape[0], 28, 28, 1).astype('float32')"
   ]
  },
  {
   "cell_type": "code",
   "execution_count": 5,
   "metadata": {
    "collapsed": true
   },
   "outputs": [],
   "source": [
    "# normalize inputs from 0-255 to 0-1\n",
    "X_train = X_train / 255\n",
    "X_test = X_test / 255\n",
    "# one hot encode outputs\n",
    "y_train = np_utils.to_categorical(y_train)\n",
    "y_test = np_utils.to_categorical(y_test)\n",
    "num_classes = y_test.shape[1]"
   ]
  },
  {
   "cell_type": "code",
   "execution_count": 8,
   "metadata": {
    "collapsed": true
   },
   "outputs": [],
   "source": [
    "# CNN Model 1\n",
    "\n",
    "def CNN_1():\n",
    "    \n",
    "    model = Sequential()\n",
    "    model.add(Conv2D(32, (5, 5), activation='relu', input_shape=(IMAGE_WIDTH, IMAGE_HEIGHT, 1)))\n",
    "    model.add(MaxPooling2D(pool_size=(2, 2)))\n",
    "    model.add(Flatten())\n",
    "    model.add(Dense(num_classes, activation='softmax'))\n",
    "    \n",
    "    return model\n",
    "\n",
    "# Add another convolutional layer\n",
    "\n",
    "def CNN_2():\n",
    "    \n",
    "    model = Sequential()\n",
    "    \n",
    "    model.add(Conv2D(32, (3, 3), activation='relu', input_shape=(IMAGE_WIDTH, IMAGE_HEIGHT, 1)))\n",
    "    model.add(Conv2D(32, (3, 3), activation = 'relu'))\n",
    "    model.add(MaxPooling2D(pool_size=(2, 2)))\n",
    "    model.add(Flatten())\n",
    "    model.add(Dense(128, activation='relu'))\n",
    "    model.add(Dense(num_classes, activation=\"softmax\"))\n",
    "    \n",
    "    return model\n",
    "\n",
    "# Add Dropout\n",
    "\n",
    "def CNN_3():\n",
    "    \n",
    "    model = Sequential()\n",
    "    \n",
    "    model.add(Conv2D(32, (3, 3), activation='relu', input_shape=(IMAGE_WIDTH, IMAGE_HEIGHT, 1)))\n",
    "    model.add(Conv2D(32, (3,3), activation = 'relu'))\n",
    "    model.add(MaxPooling2D(pool_size=(2, 2)))\n",
    "    model.add(Flatten())\n",
    "    model.add(Dense(128, activation='relu'))\n",
    "    model.add(Dropout(0.7))\n",
    "    model.add(Dense(num_classes, activation=\"softmax\"))\n",
    "    \n",
    "    return model"
   ]
  },
  {
   "cell_type": "code",
   "execution_count": 9,
   "metadata": {
    "collapsed": false
   },
   "outputs": [],
   "source": [
    "# Compile Model 1\n",
    "\n",
    "model1 = CNN_1()\n",
    "\n",
    "model1.compile(loss = \"categorical_crossentropy\", optimizer = 'adam', metrics=['accuracy'])\n",
    "\n",
    "# Compile Model 2\n",
    "\n",
    "model2 = CNN_2()\n",
    "\n",
    "model2.compile(loss = \"categorical_crossentropy\", optimizer = 'adam', metrics=['accuracy'])\n",
    "\n",
    "# Compile Model 3\n",
    "\n",
    "model3 = CNN_3()\n",
    "\n",
    "model3.compile(loss = \"categorical_crossentropy\", optimizer = 'adam', metrics=['accuracy'])"
   ]
  },
  {
   "cell_type": "code",
   "execution_count": 10,
   "metadata": {
    "collapsed": false
   },
   "outputs": [
    {
     "name": "stdout",
     "output_type": "stream",
     "text": [
      "Train on 60000 samples, validate on 10000 samples\n",
      "Epoch 1/10\n",
      " - 88s - loss: 0.3688 - acc: 0.9012 - val_loss: 0.1498 - val_acc: 0.9585\n",
      "Epoch 2/10\n",
      " - 87s - loss: 0.1252 - acc: 0.9653 - val_loss: 0.0920 - val_acc: 0.9713\n",
      "Epoch 3/10\n",
      " - 86s - loss: 0.0846 - acc: 0.9761 - val_loss: 0.0674 - val_acc: 0.9806\n",
      "Epoch 4/10\n",
      " - 85s - loss: 0.0656 - acc: 0.9814 - val_loss: 0.0582 - val_acc: 0.9825\n",
      "Epoch 5/10\n",
      " - 80s - loss: 0.0555 - acc: 0.9840 - val_loss: 0.0512 - val_acc: 0.9827\n",
      "Epoch 6/10\n",
      " - 90s - loss: 0.0487 - acc: 0.9859 - val_loss: 0.0480 - val_acc: 0.9847\n",
      "Epoch 7/10\n",
      " - 85s - loss: 0.0437 - acc: 0.9875 - val_loss: 0.0444 - val_acc: 0.9858\n",
      "Epoch 8/10\n",
      " - 85s - loss: 0.0385 - acc: 0.9886 - val_loss: 0.0415 - val_acc: 0.9861\n",
      "Epoch 9/10\n",
      " - 85s - loss: 0.0357 - acc: 0.9889 - val_loss: 0.0438 - val_acc: 0.9854\n",
      "Epoch 10/10\n",
      " - 89s - loss: 0.0319 - acc: 0.9904 - val_loss: 0.0434 - val_acc: 0.9856\n"
     ]
    },
    {
     "data": {
      "text/plain": [
       "<keras.callbacks.History at 0x1a5aeac9668>"
      ]
     },
     "execution_count": 10,
     "metadata": {},
     "output_type": "execute_result"
    }
   ],
   "source": [
    "# Model 1 Train\n",
    "model1.fit(X_train, y_train, validation_data=(X_test, y_test), epochs=10, batch_size=200, verbose=2)"
   ]
  },
  {
   "cell_type": "code",
   "execution_count": 11,
   "metadata": {
    "collapsed": false
   },
   "outputs": [
    {
     "name": "stdout",
     "output_type": "stream",
     "text": [
      "98.56\n"
     ]
    }
   ],
   "source": [
    "print(accuracy(X_test, y_test, model1))"
   ]
  },
  {
   "cell_type": "code",
   "execution_count": 12,
   "metadata": {
    "collapsed": false
   },
   "outputs": [
    {
     "name": "stdout",
     "output_type": "stream",
     "text": [
      "Train on 60000 samples, validate on 10000 samples\n",
      "Epoch 1/10\n",
      " - 316s - loss: 0.4172 - acc: 0.8728 - val_loss: 0.0696 - val_acc: 0.9781\n",
      "Epoch 2/10\n",
      " - 314s - loss: 0.1510 - acc: 0.9558 - val_loss: 0.0493 - val_acc: 0.9839\n",
      "Epoch 3/10\n",
      " - 326s - loss: 0.1172 - acc: 0.9662 - val_loss: 0.0416 - val_acc: 0.9860\n",
      "Epoch 4/10\n",
      " - 313s - loss: 0.0966 - acc: 0.9715 - val_loss: 0.0379 - val_acc: 0.9875\n",
      "Epoch 5/10\n",
      " - 313s - loss: 0.0871 - acc: 0.9743 - val_loss: 0.0329 - val_acc: 0.9895\n",
      "Epoch 6/10\n",
      " - 341s - loss: 0.0790 - acc: 0.9760 - val_loss: 0.0365 - val_acc: 0.9887\n",
      "Epoch 7/10\n",
      " - 286s - loss: 0.0728 - acc: 0.9780 - val_loss: 0.0296 - val_acc: 0.9904\n",
      "Epoch 8/10\n",
      " - 256s - loss: 0.0637 - acc: 0.9807 - val_loss: 0.0298 - val_acc: 0.9902\n",
      "Epoch 9/10\n",
      " - 274s - loss: 0.0610 - acc: 0.9816 - val_loss: 0.0316 - val_acc: 0.9903\n",
      "Epoch 10/10\n",
      " - 264s - loss: 0.0539 - acc: 0.9833 - val_loss: 0.0290 - val_acc: 0.9908\n"
     ]
    },
    {
     "data": {
      "text/plain": [
       "<keras.callbacks.History at 0x1a5b02fb438>"
      ]
     },
     "execution_count": 12,
     "metadata": {},
     "output_type": "execute_result"
    }
   ],
   "source": [
    "# Model 3 Train\n",
    "model3.fit(X_train, y_train, validation_data=(X_test, y_test), epochs=10, batch_size=200, verbose=2)"
   ]
  },
  {
   "cell_type": "code",
   "execution_count": 13,
   "metadata": {
    "collapsed": false
   },
   "outputs": [
    {
     "name": "stdout",
     "output_type": "stream",
     "text": [
      "99.08\n"
     ]
    }
   ],
   "source": [
    "print(accuracy(X_test, y_test, model3))"
   ]
  },
  {
   "cell_type": "code",
   "execution_count": 14,
   "metadata": {
    "collapsed": true
   },
   "outputs": [],
   "source": [
    "model3.save('mnistClassifier.h5')  # creates a HDF5 file"
   ]
  },
  {
   "cell_type": "code",
   "execution_count": null,
   "metadata": {
    "collapsed": true
   },
   "outputs": [],
   "source": []
  }
 ],
 "metadata": {
  "anaconda-cloud": {},
  "kernelspec": {
   "display_name": "Python [Root]",
   "language": "python",
   "name": "Python [Root]"
  },
  "language_info": {
   "codemirror_mode": {
    "name": "ipython",
    "version": 3
   },
   "file_extension": ".py",
   "mimetype": "text/x-python",
   "name": "python",
   "nbconvert_exporter": "python",
   "pygments_lexer": "ipython3",
   "version": "3.5.2"
  }
 },
 "nbformat": 4,
 "nbformat_minor": 0
}
